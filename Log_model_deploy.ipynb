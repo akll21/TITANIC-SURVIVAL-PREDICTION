{
 "cells": [
  {
   "cell_type": "code",
   "execution_count": 9,
   "id": "966b462a-3cbc-44d7-866f-0489d394f6b0",
   "metadata": {},
   "outputs": [],
   "source": [
    "import streamlit as st\n",
    "import pandas as pd\n",
    "import pickle\n",
    "import warnings\n",
    "warnings.filterwarnings('ignore')"
   ]
  },
  {
   "cell_type": "code",
   "execution_count": 11,
   "id": "22d3dbd7-0632-4453-ac22-2765a601a3c0",
   "metadata": {},
   "outputs": [
    {
     "data": {
      "text/plain": [
       "DeltaGenerator()"
      ]
     },
     "execution_count": 11,
     "metadata": {},
     "output_type": "execute_result"
    }
   ],
   "source": [
    "# Create a Streamlit app\n",
    "st.title(\"Titanic Survival Prediction\")"
   ]
  },
  {
   "cell_type": "code",
   "execution_count": 13,
   "id": "d3c23904-4007-433b-8a10-08fb862215bc",
   "metadata": {},
   "outputs": [],
   "source": [
    "model = pickle.load(open('log_deploy.pkl','rb'))"
   ]
  },
  {
   "cell_type": "code",
   "execution_count": 14,
   "id": "dea045ed-5f81-40b2-86db-7c05f9b5ca9d",
   "metadata": {},
   "outputs": [],
   "source": [
    "# Set up user inputs\n",
    "st.subheader(\"Enter Passenger Details:\")\n",
    "Pclass = st.selectbox(\"Passenger Class\", [1, 2, 3])\n",
    "Sex = st.selectbox(\"Sex\", [\"Male\", \"Female\"])\n",
    "Age = st.number_input(\"Age\", min_value=0, max_value=100)\n",
    "SibSp = st.number_input(\"Number of Siblings/Spouses\", min_value=0, max_value=10)\n",
    "Parch = st.number_input(\"Number of Parents/Children\", min_value=0, max_value=10)\n",
    "Fare = st.number_input(\"Fare\", min_value=0, max_value=1000)\n",
    "Embarked = st.selectbox(\"Port of Embarkation\", [\"S\", \"C\", \"Q\"])"
   ]
  },
  {
   "cell_type": "code",
   "execution_count": 15,
   "id": "3e759858-b040-45e0-a5c4-64a9800b0a44",
   "metadata": {},
   "outputs": [],
   "source": [
    "# Convert user inputs to a DataFrame\n",
    "user_input = pd.DataFrame({\n",
    "    \"Pclass\": [Pclass],\n",
    "    \"Sex\": [0 if Sex == \"Male\" else 1],\n",
    "    \"Age\": [Age],\n",
    "    \"SibSp\": [SibSp],\n",
    "    \"Parch\": [Parch],\n",
    "    \"Fare\": [Fare],\n",
    "    \"Embarked\": [0 if Embarked == \"S\" else 1 if Embarked == \"C\" else 2]\n",
    "})"
   ]
  },
  {
   "cell_type": "code",
   "execution_count": 16,
   "id": "9b15dbbe-a5cd-401d-8a16-6429e0d787a5",
   "metadata": {},
   "outputs": [],
   "source": [
    "# Make predictions\n",
    "prediction = model.predict(user_input)\n",
    "\n",
    "# Display the prediction\n",
    "st.subheader(\"Prediction:\")\n",
    "if prediction[0] == 0:\n",
    "    st.write(\"The passenger is unlikely to survive.\")\n",
    "else:\n",
    "    st.write(\"The passenger is likely to survive.\")\n",
    "\n",
    "# Display the probability of survival\n",
    "probability = model.predict_proba(user_input)[0][1]\n",
    "st.subheader(\"Probability of Survival:\")\n",
    "st.write(f\"The probability of survival is {probability:.2f}\")"
   ]
  },
  {
   "cell_type": "code",
   "execution_count": null,
   "id": "68121240-ea9f-4cea-a06c-c99f338fa0b3",
   "metadata": {},
   "outputs": [],
   "source": []
  },
  {
   "cell_type": "code",
   "execution_count": null,
   "id": "4988a8c7-afbb-4a8c-a1f1-7e16e3164dec",
   "metadata": {},
   "outputs": [],
   "source": []
  },
  {
   "cell_type": "code",
   "execution_count": null,
   "id": "c2b5358b-8327-4f7b-89a3-171e1b774042",
   "metadata": {},
   "outputs": [],
   "source": []
  }
 ],
 "metadata": {
  "kernelspec": {
   "display_name": "Python 3 (ipykernel)",
   "language": "python",
   "name": "python3"
  },
  "language_info": {
   "codemirror_mode": {
    "name": "ipython",
    "version": 3
   },
   "file_extension": ".py",
   "mimetype": "text/x-python",
   "name": "python",
   "nbconvert_exporter": "python",
   "pygments_lexer": "ipython3",
   "version": "3.12.3"
  }
 },
 "nbformat": 4,
 "nbformat_minor": 5
}
